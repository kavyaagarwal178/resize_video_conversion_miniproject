{
  "nbformat": 4,
  "nbformat_minor": 0,
  "metadata": {
    "colab": {
      "provenance": [],
      "authorship_tag": "ABX9TyN11+6ogGrEFehuuEQm+4aH",
      "include_colab_link": true
    },
    "kernelspec": {
      "name": "python3",
      "display_name": "Python 3"
    },
    "language_info": {
      "name": "python"
    }
  },
  "cells": [
    {
      "cell_type": "markdown",
      "metadata": {
        "id": "view-in-github",
        "colab_type": "text"
      },
      "source": [
        "<a href=\"https://colab.research.google.com/github/kavyaagarwal178/resize_video_conversion_miniproject/blob/main/resize_video.ipynb\" target=\"_parent\"><img src=\"https://colab.research.google.com/assets/colab-badge.svg\" alt=\"Open In Colab\"/></a>"
      ]
    },
    {
      "cell_type": "code",
      "source": [
        "import cv2\n",
        "\n",
        "# Path to the input video file\n",
        "input_video_path = '/content/test.mp4'\n",
        "\n",
        "# Path to save the output video file\n",
        "output_video_path = '/content/resized_video.mp4'\n",
        "\n",
        "# Open the input video\n",
        "input_video = cv2.VideoCapture(input_video_path)\n",
        "\n",
        "# Get the input video's properties\n",
        "width = int(input_video.get(cv2.CAP_PROP_FRAME_WIDTH))\n",
        "height = int(input_video.get(cv2.CAP_PROP_FRAME_HEIGHT))\n",
        "fps = input_video.get(cv2.CAP_PROP_FPS)\n",
        "\n",
        "# Define the codec for the output video\n",
        "fourcc = cv2.VideoWriter_fourcc(*\"mp4v\")\n",
        "\n",
        "# Create VideoWriter object to save the resized video\n",
        "output_video = cv2.VideoWriter(output_video_path, fourcc, fps, (int(width * 0.5), int(height * 0.5)))\n",
        "\n",
        "# Loop through the frames of the input video\n",
        "while True:\n",
        "    # Read the next frame\n",
        "    ret, frame = input_video.read()\n",
        "\n",
        "    # If frame not read successfully, exit the loop\n",
        "    if not ret:\n",
        "        break\n",
        "\n",
        "    # Resize the frame to 50% of its original size\n",
        "    resized_frame = cv2.resize(frame, (int(width * 0.5), int(height * 0.5)))\n",
        "\n",
        "    # Write the resized frame to the output video\n",
        "    output_video.write(resized_frame)\n",
        "\n",
        "# Release the video objects\n",
        "input_video.release()\n",
        "output_video.release()\n",
        "print(\"Video is resized to 50%\")"
      ],
      "metadata": {
        "colab": {
          "base_uri": "https://localhost:8080/"
        },
        "id": "gC6HlJ7jrS2z",
        "outputId": "af93b1c7-7a2a-4df8-e2d1-fb74e778a73d"
      },
      "execution_count": 3,
      "outputs": [
        {
          "output_type": "stream",
          "name": "stdout",
          "text": [
            "Video is resized to 50%\n"
          ]
        }
      ]
    }
  ]
}